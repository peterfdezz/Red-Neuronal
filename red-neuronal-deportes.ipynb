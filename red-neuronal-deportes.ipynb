{
 "cells": [
  {
   "cell_type": "markdown",
   "metadata": {},
   "source": [
    "# Convolutional Neural Networks\n",
    "   \n"
   ]
  },
  {
   "cell_type": "markdown",
   "metadata": {},
   "source": [
    "### Vamos a construir una red neuronal que reconoce imágenes de los 10 deportes más populares del mundo de tamaño 21x28 píxeles (pequeñas pero suficiente para que pueda reconocerlo) en color, con un total de 77.000 fotos con el objetivo de que nuestra red neuronal pueda reconocer y clasificar dada una nueva imagen de qué deporte se trata\n",
    "\n"
   ]
  },
  {
   "cell_type": "markdown",
   "metadata": {},
   "source": [
    "#### En primer lugar, importamos las librerías `numpy` y `keras`"
   ]
  },
  {
   "cell_type": "code",
   "execution_count": 16,
   "metadata": {},
   "outputs": [],
   "source": [
    "import numpy as np\n",
    "import os\n",
    "import re\n",
    "import matplotlib.pyplot as plt\n",
    "%matplotlib inline\n",
    "from sklearn.model_selection import train_test_split\n",
    "from sklearn.metrics import classification_report\n",
    "\n",
    "import keras\n",
    "from keras.utils import to_categorical\n",
    "from keras.models import Sequential,Input,Model\n",
    "from keras.layers import Dense, Dropout, Flatten\n",
    "from keras.layers import Conv2D, MaxPooling2D\n",
    "from keras.layers.normalization import BatchNormalization\n",
    "from keras.layers.advanced_activations import LeakyReLU"
   ]
  },
  {
   "cell_type": "markdown",
   "metadata": {},
   "source": [
    "#### A continuación, cargamos las imágenes con `plt.imread(filepath)` "
   ]
  },
  {
   "cell_type": "code",
   "execution_count": 2,
   "metadata": {},
   "outputs": [
    {
     "name": "stdout",
     "output_type": "stream",
     "text": [
      "leyendo imagenes de  /Users/pedro/sportimages/\n",
      "/Users/pedro/sportimages/golf 1\n",
      "/Users/pedro/sportimages/basket 9768\n",
      "/Users/pedro/sportimages/tenis 8823\n",
      "/Users/pedro/sportimages/natacion 8937\n",
      "/Users/pedro/sportimages/ciclismo 5172\n",
      "/Users/pedro/sportimages/beisball 7533\n",
      "/Users/pedro/sportimages/futbol 7752\n",
      "/Users/pedro/sportimages/americano 7617\n",
      "/Users/pedro/sportimages/f1 9348\n",
      "/Users/pedro/sportimages/boxeo 5053\n",
      "Directorios leidos: 10\n",
      "Imagenes en cada directorio [9769, 8823, 8937, 5172, 7533, 7752, 7617, 9348, 5053, 7124]\n",
      "suma Total de imagenes en subdirs: 77128\n"
     ]
    }
   ],
   "source": [
    "dirname = os.path.join(os.getcwd(), 'sportimages')\n",
    "imgpath = dirname + os.sep \n",
    " \n",
    "images = []\n",
    "directories = []\n",
    "dircount = []\n",
    "prevRoot=''\n",
    "cant=0\n",
    " \n",
    "print(\"leyendo imagenes de \",imgpath)\n",
    " \n",
    "for root, dirnames, filenames in os.walk(imgpath):\n",
    "    for filename in filenames:\n",
    "        if re.search(\"\\.(jpg|jpeg|png|bmp|tiff)$\", filename):\n",
    "            cant=cant+1\n",
    "            filepath = os.path.join(root, filename)\n",
    "            image = plt.imread(filepath)\n",
    "            images.append(image)\n",
    "            b = \"Leyendo...\" + str(cant)\n",
    "            print (b, end=\"\\r\")\n",
    "            if prevRoot !=root:\n",
    "                print(root, cant)\n",
    "                prevRoot=root\n",
    "                directories.append(root)\n",
    "                dircount.append(cant)\n",
    "                cant=0\n",
    "dircount.append(cant)\n",
    " \n",
    "dircount = dircount[1:]\n",
    "dircount[0]=dircount[0]+1\n",
    "print('Directorios leidos:',len(directories))\n",
    "print(\"Imagenes en cada directorio\", dircount)\n",
    "print('suma Total de imagenes en subdirs:',sum(dircount))"
   ]
  },
  {
   "cell_type": "markdown",
   "metadata": {},
   "source": [
    "#### Después, creamos las etiquetas con  `labels`, proporcionándole un valor del 0 al 9 a cada deporte. Luego convertimos las etiquetas y las imágenes en numpy array con `np.array()`\n"
   ]
  },
  {
   "cell_type": "code",
   "execution_count": 3,
   "metadata": {},
   "outputs": [
    {
     "name": "stdout",
     "output_type": "stream",
     "text": [
      "Cantidad etiquetas creadas:  77128\n",
      "0 golf\n",
      "1 basket\n",
      "2 tenis\n",
      "3 natacion\n",
      "4 ciclismo\n",
      "5 beisball\n",
      "6 futbol\n",
      "7 americano\n",
      "8 f1\n",
      "9 boxeo\n",
      "Total number of outputs :  10\n",
      "Output classes :  [0 1 2 3 4 5 6 7 8 9]\n"
     ]
    }
   ],
   "source": [
    "labels=[]\n",
    "indice=0\n",
    "for cantidad in dircount:\n",
    "    for i in range(cantidad):\n",
    "        labels.append(indice)\n",
    "    indice=indice+1\n",
    "print(\"Cantidad etiquetas creadas: \",len(labels))\n",
    " \n",
    "deportes=[]\n",
    "indice=0\n",
    "for directorio in directories:\n",
    "    name = directorio.split(os.sep)\n",
    "    print(indice , name[len(name)-1])\n",
    "    deportes.append(name[len(name)-1])\n",
    "    indice=indice+1\n",
    " \n",
    "y = np.array(labels)\n",
    "X = np.array(images, dtype=np.uint8) #convierto de lista a numpy\n",
    " \n",
    "# Encontrar el número de la etiqueta de entrenamiento\n",
    "classes = np.unique(y)\n",
    "nClasses = len(classes)\n",
    "print('Número total de outputs : ', nClasses)\n",
    "print('Output clases : ', classes)"
   ]
  },
  {
   "cell_type": "markdown",
   "metadata": {},
   "source": [
    "#### Creamos dos sets diferentes: el set de entrenamiento y el set de testing. Preprocesamos el valor de los pixeles y lo normalizamos para que tengan un valor entre 0 y 1, por eso dividimos en 255. Ademas haremos el «One-Hot encoding» con `to_categorical()`  que converiete las etiquetas por ejemplo de fútbol un 6 a una salida de tipo (0 0 0 0 0 0 1 0 0 0) para que así funcione mejor nuestra red neuronal y se corresponde con una capa de salida de la red neuronal de 10 neuronas."
   ]
  },
  {
   "cell_type": "markdown",
   "metadata": {},
   "source": [
    "#### Por último, en este bloque, subdividimos los datos en 80-20 para test y entrenamiento con `train_test_split()` y nuevamente en 80-20 el de training para obtener un subconjunto de validación."
   ]
  },
  {
   "cell_type": "code",
   "execution_count": 17,
   "metadata": {},
   "outputs": [
    {
     "name": "stdout",
     "output_type": "stream",
     "text": [
      "Datos del training :  (61702, 21, 28, 3) (61702,)\n",
      "Datos del test :  (15426, 21, 28, 3) (15426,)\n",
      "Etiqueta original: 7\n",
      "Después de la conversión One-Hot: [0. 0. 0. 0. 0. 0. 0. 1. 0. 0.]\n",
      "(49361, 21, 28, 3) (12341, 21, 28, 3) (49361, 10) (12341, 10)\n"
     ]
    }
   ],
   "source": [
    "#Mezclar todo y crear los grupos de entrenamiento y testing\n",
    "train_X,test_X,train_Y,test_Y = train_test_split(X,y,test_size=0.2)\n",
    "print('Datos del training : ', train_X.shape, train_Y.shape)\n",
    "print('Datos del test : ', test_X.shape, test_Y.shape)\n",
    " \n",
    "train_X = train_X.astype('float32')\n",
    "test_X = test_X.astype('float32')\n",
    "train_X = train_X / 255.\n",
    "test_X = test_X / 255.\n",
    " \n",
    "# Change the labels from categorical to one-hot encoding\n",
    "train_Y_one_hot = to_categorical(train_Y)\n",
    "test_Y_one_hot = to_categorical(test_Y)\n",
    " \n",
    "# Display the change for category label using one-hot encoding\n",
    "print('Etiqueta original:', train_Y[0])\n",
    "print('Después de la conversión One-Hot:', train_Y_one_hot[0])\n",
    " \n",
    "train_X,valid_X,train_label,valid_label = train_test_split(train_X, train_Y_one_hot, test_size=0.2, random_state=13)\n",
    " \n",
    "print(train_X.shape,valid_X.shape,train_label.shape,valid_label.shape)"
   ]
  },
  {
   "cell_type": "markdown",
   "metadata": {},
   "source": [
    "#### Ahora sí que nos apoyamos en Keras para crear la Convolutional Neural Network. \n",
    "\n",
    "+ Declaramos 3 constantes:\n",
    "        + El valor inicial del learning rate `INIT_L`\n",
    "        + Cantidad de `epochs`\n",
    "        + Tamaño batch de imágenes a procesar `batch_size` (cargan en memoria).\n",
    "+ Crearemos una primer capa de neuronas Convolucional de 2 Dimensiones `Conv2D()`, donde entrarán nuestras imágenes de 21x28x3. Donde 3 hace referencia a los canales de colores que tiene la imagen (RGB) que tiene valores de 0 a 255\n",
    "+ Aplicaremos 32 filtros de tamaño 3×3 que detectan ciertas características de la imagen (ejemplo: lineas verticales).\n",
    "+ Utilizaremos La función `LeakyReLU` como activación de las neuronas.\n",
    "+ Haremos un MaxPooling (de 2×2) que reduce la imagen que entra de 21×28 a la mitad,(11×14) manteniendo las características «únicas» que detectó cada kernel.\n",
    "+ Para evitar el overfitting, añadimos una técnica llamada Dropout\n",
    "+ «Aplanamos» `Flatten()`  los 32 filtros y creamos una capa de 32 neuronas «tradicionales» Dense()\n",
    "+ Y finalizamos la capa de salida con 10 neuronas con activación Softmax, para que se corresponda con el «hot encoding» que hicimos antes.\n",
    "+ Luego compilamos nuestra red `sport_model.compile()`  y le asignamos un optimizador (en este caso de llama Adagrad)."
   ]
  },
  {
   "cell_type": "code",
   "execution_count": 5,
   "metadata": {},
   "outputs": [
    {
     "name": "stdout",
     "output_type": "stream",
     "text": [
      "WARNING:tensorflow:From //anaconda3/lib/python3.7/site-packages/keras/backend/tensorflow_backend.py:4070: The name tf.nn.max_pool is deprecated. Please use tf.nn.max_pool2d instead.\n",
      "\n",
      "Model: \"sequential_1\"\n",
      "_________________________________________________________________\n",
      "Layer (type)                 Output Shape              Param #   \n",
      "=================================================================\n",
      "conv2d_1 (Conv2D)            (None, 21, 28, 32)        896       \n",
      "_________________________________________________________________\n",
      "leaky_re_lu_1 (LeakyReLU)    (None, 21, 28, 32)        0         \n",
      "_________________________________________________________________\n",
      "max_pooling2d_1 (MaxPooling2 (None, 11, 14, 32)        0         \n",
      "_________________________________________________________________\n",
      "dropout_1 (Dropout)          (None, 11, 14, 32)        0         \n",
      "_________________________________________________________________\n",
      "flatten_1 (Flatten)          (None, 4928)              0         \n",
      "_________________________________________________________________\n",
      "dense_1 (Dense)              (None, 32)                157728    \n",
      "_________________________________________________________________\n",
      "leaky_re_lu_2 (LeakyReLU)    (None, 32)                0         \n",
      "_________________________________________________________________\n",
      "dropout_2 (Dropout)          (None, 32)                0         \n",
      "_________________________________________________________________\n",
      "dense_2 (Dense)              (None, 10)                330       \n",
      "=================================================================\n",
      "Total params: 158,954\n",
      "Trainable params: 158,954\n",
      "Non-trainable params: 0\n",
      "_________________________________________________________________\n"
     ]
    }
   ],
   "source": [
    "INIT_LR = 1e-3\n",
    "epochs = 6\n",
    "batch_size = 64\n",
    " \n",
    "sport_model = Sequential()\n",
    "sport_model.add(Conv2D(32, kernel_size=(3, 3),activation='linear',padding='same',input_shape=(21,28,3)))\n",
    "sport_model.add(LeakyReLU(alpha=0.1))\n",
    "sport_model.add(MaxPooling2D((2, 2),padding='same'))\n",
    "sport_model.add(Dropout(0.5))\n",
    " \n",
    "sport_model.add(Flatten())\n",
    "sport_model.add(Dense(32, activation='linear'))\n",
    "sport_model.add(LeakyReLU(alpha=0.1))\n",
    "sport_model.add(Dropout(0.5)) \n",
    "sport_model.add(Dense(nClasses, activation='softmax'))\n",
    " \n",
    "sport_model.summary()\n",
    " \n",
    "sport_model.compile(loss=keras.losses.categorical_crossentropy, optimizer=keras.optimizers.Adagrad(lr=INIT_LR, decay=INIT_LR / 100),metrics=['accuracy'])"
   ]
  },
  {
   "cell_type": "markdown",
   "metadata": {},
   "source": [
    "#### Iniciaremos el entrenamiento y validación de nuestra red neuronal con esta linea `sport_model.fit()`  y la red se irá regulando sola, «aprendiendo» los mejores pesos para las más de 150.000 interconexiones para distinguir los 10 deportes\n",
    "\n",
    "#### Por último guardamos la red YA ENTRENADA `sport_model.save()` en un formato de archivo h5py ya que nos permitirá poder utilizarla en el futuro SIN necesidad de volver a entrenar "
   ]
  },
  {
   "cell_type": "code",
   "execution_count": 6,
   "metadata": {},
   "outputs": [
    {
     "name": "stdout",
     "output_type": "stream",
     "text": [
      "WARNING:tensorflow:From //anaconda3/lib/python3.7/site-packages/keras/backend/tensorflow_backend.py:422: The name tf.global_variables is deprecated. Please use tf.compat.v1.global_variables instead.\n",
      "\n",
      "Train on 49361 samples, validate on 12341 samples\n",
      "Epoch 1/6\n",
      "49361/49361 [==============================] - 52s 1ms/step - loss: 1.4740 - accuracy: 0.5194 - val_loss: 1.0153 - val_accuracy: 0.7499\n",
      "Epoch 2/6\n",
      "49361/49361 [==============================] - 46s 928us/step - loss: 1.1703 - accuracy: 0.6213 - val_loss: 0.8723 - val_accuracy: 0.7871\n",
      "Epoch 3/6\n",
      "49361/49361 [==============================] - 45s 921us/step - loss: 1.0724 - accuracy: 0.6571 - val_loss: 0.7867 - val_accuracy: 0.8097\n",
      "Epoch 4/6\n",
      "49361/49361 [==============================] - 45s 920us/step - loss: 1.0005 - accuracy: 0.6830 - val_loss: 0.7324 - val_accuracy: 0.8204\n",
      "Epoch 5/6\n",
      "49361/49361 [==============================] - 46s 942us/step - loss: 0.9547 - accuracy: 0.6995 - val_loss: 0.6886 - val_accuracy: 0.8395\n",
      "Epoch 6/6\n",
      "49361/49361 [==============================] - 45s 904us/step - loss: 0.9116 - accuracy: 0.7122 - val_loss: 0.6480 - val_accuracy: 0.8543\n"
     ]
    }
   ],
   "source": [
    "sport_train_dropout = sport_model.fit(train_X, train_label, batch_size=batch_size,epochs=epochs,verbose=1,validation_data=(valid_X, valid_label))\n",
    " \n",
    "# guardamos la red, para reutilizarla en el futuro, sin tener que volver a entrenar\n",
    "sport_model.save(\"sports_mnist.h5py\")"
   ]
  },
  {
   "cell_type": "markdown",
   "metadata": {},
   "source": [
    "#### En las siguientes líneas de código probamos nuestra red neuronal con imágenes que no ha visto antes (el 20% reservado para el test) donde vemos que alcanza una precisión del 84%\n"
   ]
  },
  {
   "cell_type": "code",
   "execution_count": 7,
   "metadata": {},
   "outputs": [
    {
     "name": "stdout",
     "output_type": "stream",
     "text": [
      "15426/15426 [==============================] - 4s 250us/step\n",
      "Test loss: 0.6611896084826094\n",
      "Test accuracy: 0.8472708463668823\n"
     ]
    }
   ],
   "source": [
    "test_eval = sport_model.evaluate(test_X, test_Y_one_hot, verbose=1)\n",
    " \n",
    "print('Test loss:', test_eval[0])\n",
    "print('Test accuracy:', test_eval[1])"
   ]
  },
  {
   "cell_type": "code",
   "execution_count": 9,
   "metadata": {},
   "outputs": [],
   "source": [
    "predicted_classes2 = sport_model.predict(test_X)"
   ]
  },
  {
   "cell_type": "code",
   "execution_count": 10,
   "metadata": {},
   "outputs": [],
   "source": [
    "predicted_classes=[]\n",
    "for predicted_sport in predicted_classes2:\n",
    "    predicted_classes.append(predicted_sport.tolist().index(max(predicted_sport)))\n",
    "predicted_classes=np.array(predicted_classes)"
   ]
  },
  {
   "cell_type": "code",
   "execution_count": 11,
   "metadata": {},
   "outputs": [
    {
     "data": {
      "text/plain": [
       "((15426,), (15426,))"
      ]
     },
     "execution_count": 11,
     "metadata": {},
     "output_type": "execute_result"
    }
   ],
   "source": [
    "predicted_classes.shape, test_Y.shape"
   ]
  },
  {
   "cell_type": "code",
   "execution_count": 13,
   "metadata": {},
   "outputs": [
    {
     "name": "stdout",
     "output_type": "stream",
     "text": [
      "Found 13070 correct labels\n"
     ]
    },
    {
     "data": {
      "image/png": "[encoded data removed]",
      "text/plain": [
       "<Figure size 432x288 with 8 Axes>"
      ]
     },
     "metadata": {
      "needs_background": "light"
     },
     "output_type": "display_data"
    }
   ],
   "source": [
    "correct = np.where(predicted_classes==test_Y)[0]\n",
    "print(\"Found %d correct labels\" % len(correct))\n",
    "for i, correct in enumerate(correct[0:9]):\n",
    "    plt.subplot(3,3,i+1)\n",
    "    plt.imshow(test_X[correct].reshape(21,28,3), cmap='gray', interpolation='none')\n",
    "    plt.title(\"{}, {}\".format(deportes[predicted_classes[correct]],\n",
    "                                                    deportes[test_Y[correct]]))\n",
    "\n",
    "    plt.tight_layout()"
   ]
  },
  {
   "cell_type": "code",
   "execution_count": 14,
   "metadata": {},
   "outputs": [
    {
     "name": "stdout",
     "output_type": "stream",
     "text": [
      "Found 2356 incorrect labels\n"
     ]
    },
    {
     "data": {
      "image/png": "[encoded data removed]",
      "text/plain": [
       "<Figure size 432x288 with 8 Axes>"
      ]
     },
     "metadata": {
      "needs_background": "light"
     },
     "output_type": "display_data"
    }
   ],
   "source": [
    "incorrect = np.where(predicted_classes!=test_Y)[0]\n",
    "print(\"Found %d incorrect labels\" % len(incorrect))\n",
    "for i, incorrect in enumerate(incorrect[0:9]):\n",
    "    plt.subplot(3,3,i+1)\n",
    "    plt.imshow(test_X[incorrect].reshape(21,28,3), cmap='gray', interpolation='none')\n",
    "    plt.title(\"{}, {}\".format(deportes[predicted_classes[incorrect]],\n",
    "                                                    deportes[test_Y[incorrect]]))\n",
    "    plt.tight_layout()"
   ]
  },
  {
   "cell_type": "code",
   "execution_count": 15,
   "metadata": {},
   "outputs": [
    {
     "name": "stdout",
     "output_type": "stream",
     "text": [
      "              precision    recall  f1-score   support\n",
      "\n",
      "     Class 0       0.68      0.92      0.79      1965\n",
      "     Class 1       0.88      0.90      0.89      1770\n",
      "     Class 2       0.97      1.00      0.99      1798\n",
      "     Class 3       0.92      0.93      0.93      1022\n",
      "     Class 4       0.95      0.99      0.97      1502\n",
      "     Class 5       0.87      0.78      0.82      1567\n",
      "     Class 6       0.94      0.83      0.88      1523\n",
      "     Class 7       0.72      0.66      0.69      1854\n",
      "     Class 8       0.84      0.43      0.57      1054\n",
      "     Class 9       0.83      0.94      0.88      1371\n",
      "\n",
      "    accuracy                           0.85     15426\n",
      "   macro avg       0.86      0.84      0.84     15426\n",
      "weighted avg       0.85      0.85      0.84     15426\n",
      "\n"
     ]
    }
   ],
   "source": [
    "target_names = [\"Class {}\".format(i) for i in range(nClasses)]\n",
    "print(classification_report(test_Y, predicted_classes, target_names=target_names))"
   ]
  },
  {
   "cell_type": "code",
   "execution_count": null,
   "metadata": {},
   "outputs": [],
   "source": []
  }
 ],
 "metadata": {
  "kernelspec": {
   "display_name": "Python 3",
   "language": "python",
   "name": "python3"
  },
  "language_info": {
   "codemirror_mode": {
    "name": "ipython",
    "version": 3
   },
   "file_extension": ".py",
   "mimetype": "text/x-python",
   "name": "python",
   "nbconvert_exporter": "python",
   "pygments_lexer": "ipython3",
   "version": "3.7.3"
  }
 },
 "nbformat": 4,
 "nbformat_minor": 2
}
